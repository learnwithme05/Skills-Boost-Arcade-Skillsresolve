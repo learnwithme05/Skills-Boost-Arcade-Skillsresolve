{
 "cells": [
  {
   "cell_type": "code",
   "execution_count": 1,
   "id": "3c3cfe18-c46d-4ee8-a181-13305eae2097",
   "metadata": {
    "id": "3c3cfe18-c46d-4ee8-a181-13305eae2097",
    "tags": []
   },
   "outputs": [],
   "source": [
    "!pip install --quiet google-cloud-aiplatform\n",
    "!pip install --quiet google-cloud-logging"
   ]
  },
  {
   "cell_type": "code",
   "execution_count": 2,
   "id": "8f8fd1a1-3d73-4143-aff2-bb55050de439",
   "metadata": {
    "id": "8f8fd1a1-3d73-4143-aff2-bb55050de439",
    "tags": []
   },
   "outputs": [],
   "source": [
    "PROJECT = !gcloud config get-value project\n",
    "PROJECT_ID = PROJECT[0]\n",
    "REGION = \"us-central1\""
   ]
  },
  {
   "cell_type": "code",
   "execution_count": 3,
   "id": "a2170249-b548-45fa-9045-6f8f9a35fe09",
   "metadata": {
    "id": "a2170249-b548-45fa-9045-6f8f9a35fe09",
    "tags": []
   },
   "outputs": [],
   "source": [
    "import vertexai\n",
    "\n",
    "vertexai.init(project=PROJECT_ID, location=REGION)"
   ]
  },
  {
   "cell_type": "code",
   "execution_count": 4,
   "id": "5e4bbe2f-15d6-47b2-aa53-3863fea072ca",
   "metadata": {
    "id": "5e4bbe2f-15d6-47b2-aa53-3863fea072ca",
    "tags": []
   },
   "outputs": [],
   "source": [
    "# Set up the Cloud Logging client\n",
    "from google.cloud import logging as cloud_logging\n",
    "import logging\n",
    "\n",
    "client = cloud_logging.Client()\n",
    "handler = cloud_logging.handlers.CloudLoggingHandler(client)\n",
    "logging.getLogger().setLevel(logging.INFO)\n",
    "logging.getLogger().addHandler(handler)"
   ]
  },
  {
   "cell_type": "code",
   "execution_count": 5,
   "id": "99ef5304-1b62-4b59-b54d-956e3026dd26",
   "metadata": {
    "id": "99ef5304-1b62-4b59-b54d-956e3026dd26",
    "tags": []
   },
   "outputs": [],
   "source": [
    "# Insert code to load a pretrained text embedding model named text-embedding-004\n",
    "\n",
    "from vertexai.preview.language_models import TextEmbeddingModel\n",
    "\n",
    "model = TextEmbeddingModel.from_pretrained(\"text-embedding-004\")"
   ]
  },
  {
   "cell_type": "code",
   "execution_count": 6,
   "id": "361e17b1-cc55-4304-bc8c-1927f0b9f777",
   "metadata": {
    "id": "361e17b1-cc55-4304-bc8c-1927f0b9f777",
    "tags": []
   },
   "outputs": [],
   "source": [
    "# Insert code to obtain text embeddings for the following sentences:\n",
    "# I love natural language processing\n",
    "# Machine learning is fascinating\n",
    "\n",
    "result = model.get_embeddings(\n",
    "    [\"I love natural language processing\", \"Machine learning is fascinating\"]\n",
    ")"
   ]
  },
  {
   "cell_type": "code",
   "execution_count": 7,
   "id": "e8fe0c3b-478e-4c71-ac79-fea3e2f6bdbe",
   "metadata": {
    "id": "e8fe0c3b-478e-4c71-ac79-fea3e2f6bdbe",
    "tags": []
   },
   "outputs": [],
   "source": [
    "# Insert code to provide information about this embedding vector,\n",
    "# specifically printing its length (dimensionality) and the first\n",
    "# 10 values to give a glimpse of its numerical representation.\n",
    "vector = result[0].values\n",
    "\n",
    "# Log the information\n",
    "logging.info(f\"Length of the vector: {len(vector)}\")\n",
    "logging.info(f\"First 10 values of the vector: {vector[:10]}\")"
   ]
  },
  {
   "cell_type": "code",
   "execution_count": 8,
   "id": "3ab6243c-e303-4297-892b-710aa4c799cf",
   "metadata": {
    "id": "3ab6243c-e303-4297-892b-710aa4c799cf",
    "tags": []
   },
   "outputs": [],
   "source": [
    "# Import the cosine_similarity function in the sklearn libraries.\n",
    "from sklearn.metrics.pairwise import cosine_similarity"
   ]
  },
  {
   "cell_type": "code",
   "execution_count": 9,
   "id": "68e1d9b2-5957-4fed-ab08-56d83b9ac206",
   "metadata": {
    "id": "68e1d9b2-5957-4fed-ab08-56d83b9ac206",
    "tags": []
   },
   "outputs": [],
   "source": [
    "# Insert a code to generate individual embeddings for the following sentences:\n",
    "# Artificial intelligence is transforming industries\n",
    "# Exploring the wonders of deep learning.\n",
    "\n",
    "emb_1 = model.get_embeddings([\"Artificial intelligence is transforming industries\"])\n",
    "emb_2 = model.get_embeddings([\"Exploring the wonders of deep learning.\"])\n",
    "\n",
    "# Subsequently, define vectors `vec_1` and `vec_2` that hold the numerical\n",
    "# values that represent the semantic content of the respective sentences\n",
    "# in the embedding space.\n",
    "vec_1 = [emb_1[0].values]\n",
    "vec_2 = [emb_2[0].values]\n"
   ]
  },
  {
   "cell_type": "code",
   "execution_count": 10,
   "id": "67d23ac0-f5e0-42b8-a8fc-6962f5c37c8e",
   "metadata": {
    "id": "67d23ac0-f5e0-42b8-a8fc-6962f5c37c8e",
    "tags": []
   },
   "outputs": [],
   "source": [
    "# Insert a code to print the similarity between these vectors.\n",
    "\n",
    "# Log the similarilty\n",
    "logging.info(\n",
    "    f\"Cosine Similarity between vec_1 and vec_2: {cosine_similarity(vec_1, vec_2)[0][0]}\"\n",
    ")"
   ]
  }
 ],
 "metadata": {
  "colab": {
   "provenance": []
  },
  "environment": {
   "kernel": "conda-base-py",
   "name": "workbench-notebooks.m127",
   "type": "gcloud",
   "uri": "us-docker.pkg.dev/deeplearning-platform-release/gcr.io/workbench-notebooks:m127"
  },
  "kernelspec": {
   "display_name": "Python 3 (ipykernel) (Local)",
   "language": "python",
   "name": "conda-base-py"
  },
  "language_info": {
   "codemirror_mode": {
    "name": "ipython",
    "version": 3
   },
   "file_extension": ".py",
   "mimetype": "text/x-python",
   "name": "python",
   "nbconvert_exporter": "python",
   "pygments_lexer": "ipython3",
   "version": "3.10.16"
  }
 },
 "nbformat": 4,
 "nbformat_minor": 5
}
